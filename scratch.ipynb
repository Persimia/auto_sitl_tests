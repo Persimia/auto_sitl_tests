{
 "cells": [
  {
   "cell_type": "code",
   "execution_count": 3,
   "metadata": {},
   "outputs": [],
   "source": [
    "%load_ext autoreload\n",
    "%autoreload 2"
   ]
  },
  {
   "cell_type": "code",
   "execution_count": 7,
   "metadata": {},
   "outputs": [],
   "source": [
    "from sdf_modifier import generate_world_file\n",
    "\n",
    "original_world_file_dir = \"/home/skemp32/ros2_ws/src/sitl_models/worlds/\"\n",
    "original_world_file_name = \"js_turbine.sdf\"\n",
    "world_file_path = f\"/home/skemp32/ros2_ws/src/auto_sitl_tests/Temp/worlds/world.sdf\"\n",
    "\n",
    "generate_world_file(original_world_file_dir, original_world_file_name, world_file_path)"
   ]
  }
 ],
 "metadata": {
  "kernelspec": {
   "display_name": "Python 3",
   "language": "python",
   "name": "python3"
  },
  "language_info": {
   "codemirror_mode": {
    "name": "ipython",
    "version": 3
   },
   "file_extension": ".py",
   "mimetype": "text/x-python",
   "name": "python",
   "nbconvert_exporter": "python",
   "pygments_lexer": "ipython3",
   "version": "3.10.12"
  }
 },
 "nbformat": 4,
 "nbformat_minor": 2
}
