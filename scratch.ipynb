{
 "cells": [
  {
   "cell_type": "code",
   "execution_count": 9,
   "metadata": {},
   "outputs": [],
   "source": [
    "%load_ext autoreload\n",
    "%autoreload 2"
   ]
  },
  {
   "cell_type": "code",
   "execution_count": 1,
   "metadata": {},
   "outputs": [
    {
     "name": "stdout",
     "output_type": "stream",
     "text": [
      "Waiting for heartbeat\n",
      "Connected to system: 1 , component: 0\n",
      "Setting SYS_STATUS message interval...\n",
      "Setting LOCAL_POSITION_NED  message interval...\n",
      "Waiting for position...\n",
      "{'x': -0.013400239869952202, 'y': 0.012878523208200932, 'z': -0.0049616675823926926, 'vx': -0.017011065036058426, 'vy': 0.016338098794221878, 'vz': -1.0881833077291958e-05}\n"
     ]
    }
   ],
   "source": [
    "import mavlink_helper as mh\n",
    "mh.initiate_connection()\n",
    "print(mh.get_local_position_neu())\n",
    "\n",
    "\n"
   ]
  },
  {
   "cell_type": "code",
   "execution_count": 3,
   "metadata": {},
   "outputs": [
    {
     "name": "stdout",
     "output_type": "stream",
     "text": [
      "The autoreload extension is already loaded. To reload it, use:\n",
      "  %reload_ext autoreload\n",
      "Waiting for heartbeat\n",
      "Connected to system: 1 , component: 0\n",
      "Setting SYS_STATUS message interval...\n",
      "Setting LOCAL_POSITION_NED  message interval...\n",
      "Parameter SIM_SPEEDUP set to 1.0\n"
     ]
    }
   ],
   "source": [
    "%load_ext autoreload\n",
    "%autoreload 2\n",
    "\n",
    "import mavlink_helper as mh\n",
    "mh.initiate_connection()\n",
    "\n",
    "mh.change_parameter('SIM_SPEEDUP',1)\n",
    "\n",
    "mh.close()\n",
    "\n"
   ]
  },
  {
   "cell_type": "code",
   "execution_count": 4,
   "metadata": {},
   "outputs": [
    {
     "name": "stdout",
     "output_type": "stream",
     "text": [
      "The autoreload extension is already loaded. To reload it, use:\n",
      "  %reload_ext autoreload\n"
     ]
    }
   ],
   "source": [
    "%load_ext autoreload\n",
    "%autoreload 2\n",
    "\n",
    "import gazebo_helper as gh\n",
    "\n",
    "gh.publish_failure(\"clear\")"
   ]
  },
  {
   "cell_type": "code",
   "execution_count": 5,
   "metadata": {},
   "outputs": [
    {
     "name": "stdout",
     "output_type": "stream",
     "text": [
      "File copied successfully from /home/skemp32/ros2_ws/src/sitl_models/config/gazebo-doe.parm to /home/skemp32/ros2_ws/src/sitl_models/config/gazebo-doe_temp.parm\n"
     ]
    }
   ],
   "source": [
    "import utilities\n",
    "original_param_file_path = \"/home/skemp32/ros2_ws/src/sitl_models/config/gazebo-doe.parm\" # location of default params\n",
    "param_file_path = \"/home/skemp32/ros2_ws/src/sitl_models/config/gazebo-doe_temp.parm\" # location of params that are actually used and changed\n",
    "utilities.copy_param_file(original_param_file_path, param_file_path)"
   ]
  },
  {
   "cell_type": "code",
   "execution_count": 2,
   "metadata": {},
   "outputs": [
    {
     "data": {
      "text/plain": [
       "True"
      ]
     },
     "execution_count": 2,
     "metadata": {},
     "output_type": "execute_result"
    }
   ],
   "source": [
    "import gz.transport13 as transport  # Import the Gazebo Transport library\n",
    "from gz.msgs10.cameratrack_pb2 import CameraTrack\n",
    "\n",
    "topic = \"/gui/track\"\n",
    "node = transport.Node()\n",
    "\n",
    "publisher = node.advertise(topic, CameraTrack)\n",
    "\n",
    "msg = CameraTrack()\n",
    "msg.follow_target.name = \"jumping_spider_controls\"\n",
    "msg.follow_offset.x = -3\n",
    "msg.follow_offset.z = 2\n",
    "msg.follow_pgain = 0.01\n",
    "msg.track_mode= 2\n",
    "\n",
    "publisher.publish(msg)"
   ]
  },
  {
   "cell_type": "code",
   "execution_count": 9,
   "metadata": {},
   "outputs": [
    {
     "name": "stdout",
     "output_type": "stream",
     "text": [
      "-0.9847639055512419\n"
     ]
    }
   ],
   "source": [
    "import numpy as np\n",
    "\n",
    "normal = np.array([0.87, .4924])\n",
    "xi_1 = np.array([3.26, 1.74])\n",
    "xi = np.array([3.67, 2.077])\n",
    "delt = xi_1-xi\n",
    "\n",
    "dev = normal.dot(delt/np.linalg.norm(delt))\n",
    "print(dev)"
   ]
  },
  {
   "cell_type": "code",
   "execution_count": 1,
   "metadata": {},
   "outputs": [
    {
     "name": "stdout",
     "output_type": "stream",
     "text": [
      "Waiting for heartbeat\n",
      "Connected to system: 1 , component: 0\n",
      "Setting SYS_STATUS message interval...\n",
      "Setting LOCAL_POSITION_NED  message interval...\n",
      "Message: PreArm: Need Position Estimate\n",
      "Message: EKF3 IMU1 is using GPS\n",
      "Message: EKF3 IMU0 is using GPS\n"
     ]
    },
    {
     "ename": "KeyboardInterrupt",
     "evalue": "",
     "output_type": "error",
     "traceback": [
      "\u001b[0;31m---------------------------------------------------------------------------\u001b[0m",
      "\u001b[0;31mKeyboardInterrupt\u001b[0m                         Traceback (most recent call last)",
      "Cell \u001b[0;32mIn[1], line 3\u001b[0m\n\u001b[1;32m      1\u001b[0m \u001b[38;5;28;01mimport\u001b[39;00m \u001b[38;5;21;01mmavlink_helper\u001b[39;00m \u001b[38;5;28;01mas\u001b[39;00m \u001b[38;5;21;01mmh\u001b[39;00m\n\u001b[1;32m      2\u001b[0m mh\u001b[38;5;241m.\u001b[39minitiate_connection()\n\u001b[0;32m----> 3\u001b[0m \u001b[43mmh\u001b[49m\u001b[38;5;241;43m.\u001b[39;49m\u001b[43mwait_for_statustext\u001b[49m\u001b[43m(\u001b[49m\u001b[43m)\u001b[49m\n",
      "File \u001b[0;32m~/ros2_ws/src/auto_sitl_tests/mavlink_helper.py:202\u001b[0m, in \u001b[0;36mwait_for_statustext\u001b[0;34m()\u001b[0m\n\u001b[1;32m    199\u001b[0m \u001b[38;5;28;01mdef\u001b[39;00m \u001b[38;5;21mwait_for_statustext\u001b[39m():\n\u001b[1;32m    200\u001b[0m     \u001b[38;5;28;01mwhile\u001b[39;00m \u001b[38;5;28;01mTrue\u001b[39;00m:\n\u001b[1;32m    201\u001b[0m         \u001b[38;5;66;03m# Wait for the next message\u001b[39;00m\n\u001b[0;32m--> 202\u001b[0m         message \u001b[38;5;241m=\u001b[39m \u001b[43mmaster\u001b[49m\u001b[38;5;241;43m.\u001b[39;49m\u001b[43mrecv_match\u001b[49m\u001b[43m(\u001b[49m\u001b[38;5;28;43mtype\u001b[39;49m\u001b[38;5;241;43m=\u001b[39;49m\u001b[38;5;124;43m'\u001b[39;49m\u001b[38;5;124;43mSTATUSTEXT\u001b[39;49m\u001b[38;5;124;43m'\u001b[39;49m\u001b[43m,\u001b[49m\u001b[43m \u001b[49m\u001b[43mblocking\u001b[49m\u001b[38;5;241;43m=\u001b[39;49m\u001b[38;5;28;43;01mTrue\u001b[39;49;00m\u001b[43m)\u001b[49m\n\u001b[1;32m    203\u001b[0m         \u001b[38;5;28;01mif\u001b[39;00m message \u001b[38;5;129;01mis\u001b[39;00m \u001b[38;5;129;01mnot\u001b[39;00m \u001b[38;5;28;01mNone\u001b[39;00m:\n\u001b[1;32m    204\u001b[0m             text \u001b[38;5;241m=\u001b[39m message\u001b[38;5;241m.\u001b[39mtext\n",
      "File \u001b[0;32m~/.local/lib/python3.10/site-packages/pymavlink/mavutil.py:519\u001b[0m, in \u001b[0;36mmavfile.recv_match\u001b[0;34m(self, condition, type, blocking, timeout)\u001b[0m\n\u001b[1;32m    517\u001b[0m     \u001b[38;5;28;01mif\u001b[39;00m start_time \u001b[38;5;241m+\u001b[39m timeout \u001b[38;5;241m<\u001b[39m time\u001b[38;5;241m.\u001b[39mtime():\n\u001b[1;32m    518\u001b[0m         \u001b[38;5;28;01mreturn\u001b[39;00m \u001b[38;5;28;01mNone\u001b[39;00m\n\u001b[0;32m--> 519\u001b[0m m \u001b[38;5;241m=\u001b[39m \u001b[38;5;28;43mself\u001b[39;49m\u001b[38;5;241;43m.\u001b[39;49m\u001b[43mrecv_msg\u001b[49m\u001b[43m(\u001b[49m\u001b[43m)\u001b[49m\n\u001b[1;32m    520\u001b[0m \u001b[38;5;28;01mif\u001b[39;00m m \u001b[38;5;129;01mis\u001b[39;00m \u001b[38;5;28;01mNone\u001b[39;00m:\n\u001b[1;32m    521\u001b[0m     \u001b[38;5;28;01mif\u001b[39;00m blocking:\n",
      "File \u001b[0;32m~/.local/lib/python3.10/site-packages/pymavlink/mavutil.py:476\u001b[0m, in \u001b[0;36mmavfile.recv_msg\u001b[0;34m(self)\u001b[0m\n\u001b[1;32m    474\u001b[0m \u001b[38;5;28;01mwhile\u001b[39;00m \u001b[38;5;28;01mTrue\u001b[39;00m:\n\u001b[1;32m    475\u001b[0m     n \u001b[38;5;241m=\u001b[39m \u001b[38;5;28mself\u001b[39m\u001b[38;5;241m.\u001b[39mmav\u001b[38;5;241m.\u001b[39mbytes_needed()\n\u001b[0;32m--> 476\u001b[0m     s \u001b[38;5;241m=\u001b[39m \u001b[38;5;28;43mself\u001b[39;49m\u001b[38;5;241;43m.\u001b[39;49m\u001b[43mrecv\u001b[49m\u001b[43m(\u001b[49m\u001b[43mn\u001b[49m\u001b[43m)\u001b[49m\n\u001b[1;32m    477\u001b[0m     numnew \u001b[38;5;241m=\u001b[39m \u001b[38;5;28mlen\u001b[39m(s)\n\u001b[1;32m    479\u001b[0m     \u001b[38;5;28;01mif\u001b[39;00m numnew \u001b[38;5;241m!=\u001b[39m \u001b[38;5;241m0\u001b[39m:\n",
      "File \u001b[0;32m~/.local/lib/python3.10/site-packages/pymavlink/mavutil.py:1282\u001b[0m, in \u001b[0;36mmavtcp.recv\u001b[0;34m(self, n)\u001b[0m\n\u001b[1;32m   1280\u001b[0m     n \u001b[38;5;241m=\u001b[39m \u001b[38;5;28mself\u001b[39m\u001b[38;5;241m.\u001b[39mmav\u001b[38;5;241m.\u001b[39mbytes_needed()\n\u001b[1;32m   1281\u001b[0m \u001b[38;5;28;01mtry\u001b[39;00m:\n\u001b[0;32m-> 1282\u001b[0m     data \u001b[38;5;241m=\u001b[39m \u001b[38;5;28;43mself\u001b[39;49m\u001b[38;5;241;43m.\u001b[39;49m\u001b[43mport\u001b[49m\u001b[38;5;241;43m.\u001b[39;49m\u001b[43mrecv\u001b[49m\u001b[43m(\u001b[49m\u001b[43mn\u001b[49m\u001b[43m)\u001b[49m\n\u001b[1;32m   1283\u001b[0m \u001b[38;5;28;01mexcept\u001b[39;00m socket\u001b[38;5;241m.\u001b[39merror \u001b[38;5;28;01mas\u001b[39;00m e:\n\u001b[1;32m   1284\u001b[0m     \u001b[38;5;28;01mif\u001b[39;00m e\u001b[38;5;241m.\u001b[39merrno \u001b[38;5;129;01min\u001b[39;00m [ errno\u001b[38;5;241m.\u001b[39mEAGAIN, errno\u001b[38;5;241m.\u001b[39mEWOULDBLOCK ]:\n",
      "\u001b[0;31mKeyboardInterrupt\u001b[0m: "
     ]
    }
   ],
   "source": [
    "import mavlink_helper as mh\n",
    "mh.initiate_connection()\n",
    "mh.wait_for_statustext()"
   ]
  },
  {
   "cell_type": "code",
   "execution_count": 16,
   "metadata": {},
   "outputs": [
    {
     "name": "stdout",
     "output_type": "stream",
     "text": [
      "Directory '/home/skemp32/fault-testing-results/0 testing' exists. Deleting...\n",
      "Directory '/home/skemp32/fault-testing-results/0 testing' deleted.\n",
      "['00000003.BIN', '00000021.BIN', '00000029.BIN', '00000058.BIN', '00000014.BIN', '00000017.BIN', '00000038.BIN', '00000020.BIN', '00000040.BIN', '00000069.BIN', '00000046.BIN', '00000059.BIN', '00000035.BIN', '00000027.BIN', '00000004.BIN', '00000019.BIN', '00000018.BIN', '00000041.BIN', '00000064.BIN', '00000051.BIN', '00000007.BIN', '00000068.BIN', '00000009.BIN', '00000037.BIN', '00000026.BIN', '00000056.BIN', '00000005.BIN', '00000025.BIN', '00000054.BIN', '00000047.BIN', '00000015.BIN', '00000060.BIN', '00000002.BIN', '00000023.BIN', '00000034.BIN', '00000012.BIN', '00000022.BIN', '00000043.BIN', '00000042.BIN', 'LASTLOG.TXT', '00000065.BIN', '00000031.BIN', '00000052.BIN', '00000024.BIN', '00000033.BIN', '00000062.BIN', '00000049.BIN', '00000030.BIN', '00000063.BIN', '00000028.BIN', '00000048.BIN', '00000066.BIN', '00000016.BIN', '00000006.BIN', '00000055.BIN', '00000013.BIN', '00000061.BIN', '00000045.BIN', '00000001.BIN', '00000039.BIN', '00000053.BIN', '00000050.BIN', '00000067.BIN', '00000010.BIN', '00000044.BIN', '00000032.BIN', '00000057.BIN', '00000036.BIN', '00000008.BIN', '00000011.BIN']\n"
     ]
    },
    {
     "data": {
      "text/plain": [
       "'/home/skemp32/fault-testing-results/0 testing'"
      ]
     },
     "execution_count": 16,
     "metadata": {},
     "output_type": "execute_result"
    }
   ],
   "source": [
    "import os, shutil\n",
    "\n",
    "test_dir = \"/home/skemp32/fault-testing-results/\"\n",
    "folder_name = \"0 testing\"\n",
    "temp_save_dir = \"/home/skemp32/ros2_ws/src/auto_sitl_tests/Temp\" # location for data to be temporarily stored\n",
    "\n",
    "save_dir_path = os.path.join(test_dir, folder_name)\n",
    "if os.path.exists(save_dir_path):\n",
    "    print(f\"Directory '{save_dir_path}' exists. Deleting...\")\n",
    "    shutil.rmtree(save_dir_path)  # Remove the directory and its contents\n",
    "    print(f\"Directory '{save_dir_path}' deleted.\")\n",
    "\n",
    "def ignore_func(directory, contents):\n",
    "    if os.path.basename(directory) == \"logs\":\n",
    "        for file in contents:\n",
    "            if file == \"LASTLOG.TXT\":\n",
    "                with open(os.path.join(directory,file),\"r\") as f:\n",
    "                    last_log = f.read().strip()\n",
    "                    last_log = str(last_log).zfill(8) + '.BIN'\n",
    "                    contents.remove(last_log)\n",
    "                    print(contents)\n",
    "                    return contents\n",
    "                    # return \n",
    "    return []\n",
    "        \n",
    "shutil.copytree(temp_save_dir, save_dir_path, ignore=ignore_func)\n"
   ]
  },
  {
   "cell_type": "code",
   "execution_count": 15,
   "metadata": {},
   "outputs": [
    {
     "name": "stdout",
     "output_type": "stream",
     "text": [
      "['00000021.BIN', '00000029.BIN', '00000058.BIN', '00000014.BIN', '00000017.BIN', '00000038.BIN', '00000020.BIN', '00000040.BIN', '00000069.BIN', '00000046.BIN', '00000059.BIN', '00000035.BIN', '00000027.BIN', '00000004.BIN', '00000019.BIN', '00000018.BIN', '00000041.BIN', '00000064.BIN', '00000051.BIN', '00000007.BIN', '00000068.BIN', '00000009.BIN', '00000037.BIN', '00000026.BIN', '00000056.BIN', '00000005.BIN', '00000025.BIN', '00000054.BIN', '00000047.BIN', '00000015.BIN', '00000060.BIN', '00000002.BIN', '00000023.BIN', '00000034.BIN', '00000012.BIN', '00000022.BIN', '00000043.BIN', '00000042.BIN', 'LASTLOG.TXT', '00000065.BIN', '00000031.BIN', '00000052.BIN', '00000024.BIN', '00000033.BIN', '00000062.BIN', '00000049.BIN', '00000030.BIN', '00000063.BIN', '00000028.BIN', '00000048.BIN', '00000066.BIN', '00000016.BIN', '00000006.BIN', '00000055.BIN', '00000070.BIN', '00000013.BIN', '00000061.BIN', '00000045.BIN', '00000001.BIN', '00000039.BIN', '00000053.BIN', '00000050.BIN', '00000067.BIN', '00000010.BIN', '00000044.BIN', '00000032.BIN', '00000057.BIN', '00000036.BIN', '00000008.BIN', '00000011.BIN']\n"
     ]
    }
   ],
   "source": [
    "a = ['00000003.BIN', '00000021.BIN', '00000029.BIN', '00000058.BIN', '00000014.BIN', '00000017.BIN', '00000038.BIN', '00000020.BIN', '00000040.BIN', '00000069.BIN', '00000046.BIN', '00000059.BIN', '00000035.BIN', '00000027.BIN', '00000004.BIN', '00000019.BIN', '00000018.BIN', '00000041.BIN', '00000064.BIN', '00000051.BIN', '00000007.BIN', '00000068.BIN', '00000009.BIN', '00000037.BIN', '00000026.BIN', '00000056.BIN', '00000005.BIN', '00000025.BIN', '00000054.BIN', '00000047.BIN', '00000015.BIN', '00000060.BIN', '00000002.BIN', '00000023.BIN', '00000034.BIN', '00000012.BIN', '00000022.BIN', '00000043.BIN', '00000042.BIN', 'LASTLOG.TXT', '00000065.BIN', '00000031.BIN', '00000052.BIN', '00000024.BIN', '00000033.BIN', '00000062.BIN', '00000049.BIN', '00000030.BIN', '00000063.BIN', '00000028.BIN', '00000048.BIN', '00000066.BIN', '00000016.BIN', '00000006.BIN', '00000055.BIN', '00000070.BIN', '00000013.BIN', '00000061.BIN', '00000045.BIN', '00000001.BIN', '00000039.BIN', '00000053.BIN', '00000050.BIN', '00000067.BIN', '00000010.BIN', '00000044.BIN', '00000032.BIN', '00000057.BIN', '00000036.BIN', '00000008.BIN', '00000011.BIN']\n",
    "t = str(3).zfill(8)+'.BIN'\n",
    "a.remove('00000003.BIN')\n",
    "print(a)"
   ]
  }
 ],
 "metadata": {
  "kernelspec": {
   "display_name": "Python 3",
   "language": "python",
   "name": "python3"
  },
  "language_info": {
   "codemirror_mode": {
    "name": "ipython",
    "version": 3
   },
   "file_extension": ".py",
   "mimetype": "text/x-python",
   "name": "python",
   "nbconvert_exporter": "python",
   "pygments_lexer": "ipython3",
   "version": "3.10.12"
  }
 },
 "nbformat": 4,
 "nbformat_minor": 2
}
