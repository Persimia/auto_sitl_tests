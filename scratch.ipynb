{
 "cells": [
  {
   "cell_type": "code",
   "execution_count": 3,
   "metadata": {},
   "outputs": [],
   "source": [
    "%load_ext autoreload\n",
    "%autoreload 2"
   ]
  },
  {
   "cell_type": "code",
   "execution_count": 1,
   "metadata": {},
   "outputs": [
    {
     "name": "stdout",
     "output_type": "stream",
     "text": [
      "Connected to system: 1 , component: 0\n",
      "Waiting for prearm check to pass...\n",
      "HEARTBEAT {type : 2, autopilot : 3, base_mode : 89, custom_mode : 5, system_status : 3, mavlink_version : 3}\n",
      "268435456\n",
      "HEARTBEAT {type : 2, autopilot : 3, base_mode : 89, custom_mode : 5, system_status : 3, mavlink_version : 3}\n",
      "268435456\n",
      "HEARTBEAT {type : 2, autopilot : 3, base_mode : 89, custom_mode : 5, system_status : 3, mavlink_version : 3}\n",
      "268435456\n",
      "HEARTBEAT {type : 2, autopilot : 3, base_mode : 89, custom_mode : 5, system_status : 3, mavlink_version : 3}\n",
      "268435456\n",
      "HEARTBEAT {type : 2, autopilot : 3, base_mode : 89, custom_mode : 5, system_status : 3, mavlink_version : 3}\n",
      "268435456\n",
      "HEARTBEAT {type : 2, autopilot : 3, base_mode : 89, custom_mode : 5, system_status : 3, mavlink_version : 3}\n",
      "268435456\n",
      "HEARTBEAT {type : 2, autopilot : 3, base_mode : 89, custom_mode : 5, system_status : 3, mavlink_version : 3}\n",
      "268435456\n",
      "HEARTBEAT {type : 2, autopilot : 3, base_mode : 89, custom_mode : 5, system_status : 3, mavlink_version : 3}\n",
      "268435456\n"
     ]
    },
    {
     "ename": "KeyboardInterrupt",
     "evalue": "",
     "output_type": "error",
     "traceback": [
      "\u001b[0;31m---------------------------------------------------------------------------\u001b[0m",
      "\u001b[0;31mKeyboardInterrupt\u001b[0m                         Traceback (most recent call last)",
      "Cell \u001b[0;32mIn[1], line 27\u001b[0m\n\u001b[1;32m     25\u001b[0m \u001b[38;5;28;01mif\u001b[39;00m msg\u001b[38;5;241m.\u001b[39msystem_status \u001b[38;5;241m&\u001b[39m mavutil\u001b[38;5;241m.\u001b[39mmavlink\u001b[38;5;241m.\u001b[39mMAV_SYS_STATUS_PREARM_CHECK:\n\u001b[1;32m     26\u001b[0m     \u001b[38;5;28mprint\u001b[39m(\u001b[38;5;124m'\u001b[39m\u001b[38;5;124mhi\u001b[39m\u001b[38;5;124m'\u001b[39m)\n\u001b[0;32m---> 27\u001b[0m \u001b[43mtime\u001b[49m\u001b[38;5;241;43m.\u001b[39;49m\u001b[43msleep\u001b[49m\u001b[43m(\u001b[49m\u001b[38;5;241;43m1\u001b[39;49m\u001b[43m)\u001b[49m\n\u001b[1;32m     28\u001b[0m \u001b[38;5;66;03m# # Check if the system is ready to arm\u001b[39;00m\n\u001b[1;32m     29\u001b[0m \u001b[38;5;66;03m# if system_status == mavutil.mavlink.MAV_STATE_STANDBY and \\\u001b[39;00m\n\u001b[1;32m     30\u001b[0m \u001b[38;5;66;03m# base_mode & mavutil.mavlink.MAV_MODE_FLAG_SAFETY_ARMED == 0:\u001b[39;00m\n\u001b[1;32m     31\u001b[0m \u001b[38;5;66;03m#     print(\"Prearm check passed. Ready to arm!\")\u001b[39;00m\n\u001b[1;32m     32\u001b[0m \u001b[38;5;66;03m#     break\u001b[39;00m\n",
      "\u001b[0;31mKeyboardInterrupt\u001b[0m: "
     ]
    }
   ],
   "source": [
    "#!/usr/bin/python3\n",
    "# test\n",
    "import time\n",
    "import math\n",
    "from pymavlink import mavutil\n",
    "\n",
    "# connect to SITL\n",
    "master = mavutil.mavlink_connection('tcp:127.0.0.1:5762')\n",
    "\n",
    "# wait for a heartbeat\n",
    "master.wait_heartbeat()\n",
    "\n",
    "# inform user\n",
    "print(\"Connected to system:\", master.target_system, \", component:\", master.target_component)\n",
    "\n",
    "\n",
    "print(\"Waiting for prearm check to pass...\")\n",
    "while True:\n",
    "    # Fetch the next message\n",
    "    msg = master.recv_match(type='SYS_STATUS', blocking=True)\n",
    "    if not msg:\n",
    "        continue\n",
    "    print(msg)\n",
    "    print(mavutil.mavlink.MAV_SYS_STATUS_PREARM_CHECK)\n",
    "    if msg.system_status & mavutil.mavlink.MAV_SYS_STATUS_PREARM_CHECK:\n",
    "        print('hi')\n",
    "    time.sleep(1)\n",
    "    # # Check if the system is ready to arm\n",
    "    # if system_status == mavutil.mavlink.MAV_STATE_STANDBY and \\\n",
    "    # base_mode & mavutil.mavlink.MAV_MODE_FLAG_SAFETY_ARMED == 0:\n",
    "    #     print(\"Prearm check passed. Ready to arm!\")\n",
    "    #     break"
   ]
  },
  {
   "cell_type": "code",
   "execution_count": 1,
   "metadata": {},
   "outputs": [
    {
     "name": "stdout",
     "output_type": "stream",
     "text": [
      "Waiting for heartbeat...\n",
      "Heartbeat received\n",
      "Requesting prearm check...\n",
      "Setting SYS_STATUS message interval...\n",
      "Waiting for prearm check result...\n",
      "SYS_STATUS {onboard_control_sensors_present : 1467087919, onboard_control_sensors_enabled : 1449262127, onboard_control_sensors_health : 1467087919, load : 0, voltage_battery : 12600, current_battery : 0, battery_remaining : 100, drop_rate_comm : 0, errors_comm : 0, errors_count1 : 0, errors_count2 : 0, errors_count3 : 0, errors_count4 : 0}\n",
      "SYS_STATUS {onboard_control_sensors_present : 1467087919, onboard_control_sensors_enabled : 1449262127, onboard_control_sensors_health : 1467087919, load : 0, voltage_battery : 12600, current_battery : 0, battery_remaining : 100, drop_rate_comm : 0, errors_comm : 0, errors_count1 : 0, errors_count2 : 0, errors_count3 : 0, errors_count4 : 0}\n",
      "SYS_STATUS {onboard_control_sensors_present : 1467087919, onboard_control_sensors_enabled : 1449262127, onboard_control_sensors_health : 1467087919, load : 0, voltage_battery : 12600, current_battery : 0, battery_remaining : 100, drop_rate_comm : 0, errors_comm : 0, errors_count1 : 0, errors_count2 : 0, errors_count3 : 0, errors_count4 : 0}\n",
      "SYS_STATUS {onboard_control_sensors_present : 1467087919, onboard_control_sensors_enabled : 1449262127, onboard_control_sensors_health : 1467087919, load : 0, voltage_battery : 12600, current_battery : 0, battery_remaining : 100, drop_rate_comm : 0, errors_comm : 0, errors_count1 : 0, errors_count2 : 0, errors_count3 : 0, errors_count4 : 0}\n",
      "SYS_STATUS {onboard_control_sensors_present : 1467087919, onboard_control_sensors_enabled : 1449262127, onboard_control_sensors_health : 1467087919, load : 0, voltage_battery : 12600, current_battery : 0, battery_remaining : 100, drop_rate_comm : 0, errors_comm : 0, errors_count1 : 0, errors_count2 : 0, errors_count3 : 0, errors_count4 : 0}\n",
      "SYS_STATUS {onboard_control_sensors_present : 1467087919, onboard_control_sensors_enabled : 1449262127, onboard_control_sensors_health : 1467087919, load : 0, voltage_battery : 12600, current_battery : 0, battery_remaining : 100, drop_rate_comm : 0, errors_comm : 0, errors_count1 : 0, errors_count2 : 0, errors_count3 : 0, errors_count4 : 0}\n",
      "SYS_STATUS {onboard_control_sensors_present : 1467087919, onboard_control_sensors_enabled : 1449262127, onboard_control_sensors_health : 1467087919, load : 0, voltage_battery : 12600, current_battery : 0, battery_remaining : 100, drop_rate_comm : 0, errors_comm : 0, errors_count1 : 0, errors_count2 : 0, errors_count3 : 0, errors_count4 : 0}\n",
      "SYS_STATUS {onboard_control_sensors_present : 1467087919, onboard_control_sensors_enabled : 1449262127, onboard_control_sensors_health : 1467087919, load : 0, voltage_battery : 12600, current_battery : 0, battery_remaining : 100, drop_rate_comm : 0, errors_comm : 0, errors_count1 : 0, errors_count2 : 0, errors_count3 : 0, errors_count4 : 0}\n",
      "SYS_STATUS {onboard_control_sensors_present : 1467087919, onboard_control_sensors_enabled : 1449262127, onboard_control_sensors_health : 1467087919, load : 0, voltage_battery : 12600, current_battery : 0, battery_remaining : 100, drop_rate_comm : 0, errors_comm : 0, errors_count1 : 0, errors_count2 : 0, errors_count3 : 0, errors_count4 : 0}\n",
      "SYS_STATUS {onboard_control_sensors_present : 1467087919, onboard_control_sensors_enabled : 1449262127, onboard_control_sensors_health : 1467087919, load : 0, voltage_battery : 12600, current_battery : 0, battery_remaining : 100, drop_rate_comm : 0, errors_comm : 0, errors_count1 : 0, errors_count2 : 0, errors_count3 : 0, errors_count4 : 0}\n",
      "SYS_STATUS {onboard_control_sensors_present : 1467087919, onboard_control_sensors_enabled : 1449262127, onboard_control_sensors_health : 1467087919, load : 0, voltage_battery : 12600, current_battery : 0, battery_remaining : 100, drop_rate_comm : 0, errors_comm : 0, errors_count1 : 0, errors_count2 : 0, errors_count3 : 0, errors_count4 : 0}\n"
     ]
    },
    {
     "ename": "KeyboardInterrupt",
     "evalue": "",
     "output_type": "error",
     "traceback": [
      "\u001b[0;31m---------------------------------------------------------------------------\u001b[0m",
      "\u001b[0;31mKeyboardInterrupt\u001b[0m                         Traceback (most recent call last)",
      "Cell \u001b[0;32mIn[1], line 40\u001b[0m\n\u001b[1;32m     29\u001b[0m \u001b[38;5;28mprint\u001b[39m(\u001b[38;5;124m\"\u001b[39m\u001b[38;5;124mWaiting for prearm check result...\u001b[39m\u001b[38;5;124m\"\u001b[39m)\n\u001b[1;32m     30\u001b[0m \u001b[38;5;28;01mwhile\u001b[39;00m \u001b[38;5;28;01mTrue\u001b[39;00m:\n\u001b[1;32m     31\u001b[0m     \u001b[38;5;66;03m# print(\"Requesting prearm check...\")\u001b[39;00m\n\u001b[1;32m     32\u001b[0m     \u001b[38;5;66;03m# master.mav.command_long_send(\u001b[39;00m\n\u001b[0;32m   (...)\u001b[0m\n\u001b[1;32m     38\u001b[0m     \u001b[38;5;66;03m#     0, 0, 0, 0, 0, 0         # Remaining parameters unused\u001b[39;00m\n\u001b[1;32m     39\u001b[0m     \u001b[38;5;66;03m# )\u001b[39;00m\n\u001b[0;32m---> 40\u001b[0m     msg \u001b[38;5;241m=\u001b[39m \u001b[43mmaster\u001b[49m\u001b[38;5;241;43m.\u001b[39;49m\u001b[43mrecv_match\u001b[49m\u001b[43m(\u001b[49m\u001b[38;5;28;43mtype\u001b[39;49m\u001b[38;5;241;43m=\u001b[39;49m\u001b[38;5;124;43m'\u001b[39;49m\u001b[38;5;124;43mSYS_STATUS\u001b[39;49m\u001b[38;5;124;43m'\u001b[39;49m\u001b[43m,\u001b[49m\u001b[43m \u001b[49m\u001b[43mblocking\u001b[49m\u001b[38;5;241;43m=\u001b[39;49m\u001b[38;5;28;43;01mTrue\u001b[39;49;00m\u001b[43m,\u001b[49m\u001b[43m \u001b[49m\u001b[43mtimeout\u001b[49m\u001b[43m \u001b[49m\u001b[38;5;241;43m=\u001b[39;49m\u001b[43m \u001b[49m\u001b[38;5;241;43m1\u001b[39;49m\u001b[43m)\u001b[49m\n\u001b[1;32m     41\u001b[0m     \u001b[38;5;28;01mif\u001b[39;00m msg:\n\u001b[1;32m     42\u001b[0m         \u001b[38;5;28mprint\u001b[39m(msg)\n",
      "File \u001b[0;32m~/.local/lib/python3.10/site-packages/pymavlink/mavutil.py:527\u001b[0m, in \u001b[0;36mmavfile.recv_match\u001b[0;34m(self, condition, type, blocking, timeout)\u001b[0m\n\u001b[1;32m    525\u001b[0m         \u001b[38;5;28mself\u001b[39m\u001b[38;5;241m.\u001b[39mselect(\u001b[38;5;241m0.05\u001b[39m)\n\u001b[1;32m    526\u001b[0m     \u001b[38;5;28;01melse\u001b[39;00m:\n\u001b[0;32m--> 527\u001b[0m         \u001b[38;5;28;43mself\u001b[39;49m\u001b[38;5;241;43m.\u001b[39;49m\u001b[43mselect\u001b[49m\u001b[43m(\u001b[49m\u001b[43mtimeout\u001b[49m\u001b[38;5;241;43m/\u001b[39;49m\u001b[38;5;241;43m2\u001b[39;49m\u001b[43m)\u001b[49m\n\u001b[1;32m    528\u001b[0m     \u001b[38;5;28;01mcontinue\u001b[39;00m\n\u001b[1;32m    529\u001b[0m \u001b[38;5;28;01mreturn\u001b[39;00m \u001b[38;5;28;01mNone\u001b[39;00m\n",
      "File \u001b[0;32m~/.local/lib/python3.10/site-packages/pymavlink/mavutil.py:339\u001b[0m, in \u001b[0;36mmavfile.select\u001b[0;34m(self, timeout)\u001b[0m\n\u001b[1;32m    337\u001b[0m     \u001b[38;5;28;01mreturn\u001b[39;00m \u001b[38;5;28;01mTrue\u001b[39;00m\n\u001b[1;32m    338\u001b[0m \u001b[38;5;28;01mtry\u001b[39;00m:\n\u001b[0;32m--> 339\u001b[0m     (rin, win, xin) \u001b[38;5;241m=\u001b[39m \u001b[43mselect\u001b[49m\u001b[38;5;241;43m.\u001b[39;49m\u001b[43mselect\u001b[49m\u001b[43m(\u001b[49m\u001b[43m[\u001b[49m\u001b[38;5;28;43mself\u001b[39;49m\u001b[38;5;241;43m.\u001b[39;49m\u001b[43mfd\u001b[49m\u001b[43m]\u001b[49m\u001b[43m,\u001b[49m\u001b[43m \u001b[49m\u001b[43m[\u001b[49m\u001b[43m]\u001b[49m\u001b[43m,\u001b[49m\u001b[43m \u001b[49m\u001b[43m[\u001b[49m\u001b[43m]\u001b[49m\u001b[43m,\u001b[49m\u001b[43m \u001b[49m\u001b[43mtimeout\u001b[49m\u001b[43m)\u001b[49m\n\u001b[1;32m    340\u001b[0m \u001b[38;5;28;01mexcept\u001b[39;00m select\u001b[38;5;241m.\u001b[39merror:\n\u001b[1;32m    341\u001b[0m     \u001b[38;5;28;01mreturn\u001b[39;00m \u001b[38;5;28;01mFalse\u001b[39;00m\n",
      "\u001b[0;31mKeyboardInterrupt\u001b[0m: "
     ]
    }
   ],
   "source": [
    "from pymavlink import mavutil\n",
    "\n",
    "# Connect to the MAVLink system\n",
    "master = mavutil.mavlink_connection('tcp:127.0.0.1:5762') # Replace with your connection string\n",
    "\n",
    "# Wait for a heartbeat to ensure connection\n",
    "print(\"Waiting for heartbeat...\")\n",
    "master.wait_heartbeat()\n",
    "print(\"Heartbeat received\")\n",
    "\n",
    "# Send the prearm check command\n",
    "print(\"Requesting prearm check...\")\n",
    "# Set the rate for SYS_STATUS (message ID: 1)\n",
    "message_id = mavutil.mavlink.MAVLINK_MSG_ID_SYS_STATUS  # SYS_STATUS message ID\n",
    "interval_us = 1000000  # Interval in microseconds (1,000,000 us = 1 second = 1 Hz)\n",
    "\n",
    "print(\"Setting SYS_STATUS message interval...\")\n",
    "master.mav.command_long_send(\n",
    "    master.target_system, \n",
    "    master.target_component,\n",
    "    mavutil.mavlink.MAV_CMD_SET_MESSAGE_INTERVAL, \n",
    "    0,  # Confirmation\n",
    "    message_id,  # Message ID\n",
    "    interval_us,  # Interval in microseconds\n",
    "    0, 0, 0, 0, 0  # Unused parameters\n",
    ")\n",
    "\n",
    "# Monitor STATUSTEXT for feedback\n",
    "print(\"Waiting for prearm check result...\")\n",
    "while True:\n",
    "    # print(\"Requesting prearm check...\")\n",
    "    # master.mav.command_long_send(\n",
    "    #     master.target_system,    # Target system ID\n",
    "    #     master.target_component, # Target component ID\n",
    "    #     mavutil.mavlink.MAV_CMD_RUN_PREARM_CHECKS ,  # Command ID for prearm check\n",
    "    #     0,                       # Confirmation (0: no confirmation required)\n",
    "    #     0,                       # Param1 (0: Perform check)\n",
    "    #     0, 0, 0, 0, 0, 0         # Remaining parameters unused\n",
    "    # )\n",
    "    msg = master.recv_match(type='SYS_STATUS', blocking=True, timeout = 1)\n",
    "    if msg:\n",
    "        print(msg)\n",
    "        if msg.onboard_control_sensors_health & mavutil.mavlink.MAV_SYS_STATUS_PREARM_CHECK:\n",
    "            print(\"PREARM READY!!!\")\n",
    "\n"
   ]
  },
  {
   "cell_type": "code",
   "execution_count": 14,
   "metadata": {},
   "outputs": [
    {
     "name": "stdout",
     "output_type": "stream",
     "text": [
      "4\n"
     ]
    }
   ],
   "source": [
    "a = 0b1111\n",
    "print(a & (1 << 2))"
   ]
  }
 ],
 "metadata": {
  "kernelspec": {
   "display_name": "Python 3",
   "language": "python",
   "name": "python3"
  },
  "language_info": {
   "codemirror_mode": {
    "name": "ipython",
    "version": 3
   },
   "file_extension": ".py",
   "mimetype": "text/x-python",
   "name": "python",
   "nbconvert_exporter": "python",
   "pygments_lexer": "ipython3",
   "version": "3.10.12"
  }
 },
 "nbformat": 4,
 "nbformat_minor": 2
}
